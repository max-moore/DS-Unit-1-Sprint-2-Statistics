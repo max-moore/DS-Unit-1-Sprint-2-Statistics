{
  "nbformat": 4,
  "nbformat_minor": 0,
  "metadata": {
    "colab": {
      "name": "LS_DS18_122_Chi2_Tests_Assignment.ipynb",
      "provenance": [],
      "collapsed_sections": [],
      "include_colab_link": true
    },
    "kernelspec": {
      "name": "python3",
      "display_name": "Python 3"
    }
  },
  "cells": [
    {
      "cell_type": "markdown",
      "metadata": {
        "id": "view-in-github",
        "colab_type": "text"
      },
      "source": [
        "<a href=\"https://colab.research.google.com/github/max-moore/DS-Unit-1-Sprint-2-Statistics/blob/master/module2/LS_DS18_122_Chi2_Tests_Assignment.ipynb\" target=\"_parent\"><img src=\"https://colab.research.google.com/assets/colab-badge.svg\" alt=\"Open In Colab\"/></a>"
      ]
    },
    {
      "cell_type": "markdown",
      "metadata": {
        "id": "11OzdxWTM7UR",
        "colab_type": "text"
      },
      "source": [
        "## Assignment - Practice Chi^2 Tests\n",
        "\n",
        "Use the following dataset relating to math scores of students in two different Portugese schools:\n",
        "\n",
        "<https://archive.ics.uci.edu/ml/datasets/Student+Performance>\n",
        "\n",
        "### 1) Load the dataset specifically relating to math scores as a new dataframe.\n",
        "\n",
        "There are two datasets in the `student.zip` file, make sure you use `student-mat.csv`.\n"
      ]
    },
    {
      "cell_type": "code",
      "metadata": {
        "id": "UQwvrhn7m3Mn",
        "colab_type": "code",
        "colab": {}
      },
      "source": [
        "# YOUR WORK HERE\n",
        "\n",
        "import numpy as np\n",
        "import pandas as pd\n",
        "from scipy import stats"
      ],
      "execution_count": null,
      "outputs": []
    },
    {
      "cell_type": "code",
      "metadata": {
        "id": "RNQoWp-N2DRQ",
        "colab_type": "code",
        "colab": {
          "base_uri": "https://localhost:8080/",
          "height": 219
        },
        "outputId": "d8d771ae-180a-4179-c509-0c36f48d3371"
      },
      "source": [
        "!wget https://archive.ics.uci.edu/ml/machine-learning-databases/00320/student.zip"
      ],
      "execution_count": null,
      "outputs": [
        {
          "output_type": "stream",
          "text": [
            "--2020-07-16 16:05:23--  https://archive.ics.uci.edu/ml/machine-learning-databases/00320/student.zip\n",
            "Resolving archive.ics.uci.edu (archive.ics.uci.edu)... 128.195.10.252\n",
            "Connecting to archive.ics.uci.edu (archive.ics.uci.edu)|128.195.10.252|:443... connected.\n",
            "HTTP request sent, awaiting response... 200 OK\n",
            "Length: 20478 (20K) [application/x-httpd-php]\n",
            "Saving to: ‘student.zip’\n",
            "\n",
            "student.zip         100%[===================>]  20.00K  --.-KB/s    in 0.03s   \n",
            "\n",
            "2020-07-16 16:05:24 (712 KB/s) - ‘student.zip’ saved [20478/20478]\n",
            "\n"
          ],
          "name": "stdout"
        }
      ]
    },
    {
      "cell_type": "code",
      "metadata": {
        "id": "E1UGFD7i1zqT",
        "colab_type": "code",
        "colab": {
          "base_uri": "https://localhost:8080/",
          "height": 109
        },
        "outputId": "89774b55-7ea8-47f7-dc53-07b0093cf51a"
      },
      "source": [
        "!unzip student.zip"
      ],
      "execution_count": null,
      "outputs": [
        {
          "output_type": "stream",
          "text": [
            "Archive:  student.zip\n",
            "  inflating: student-mat.csv         \n",
            "  inflating: student-por.csv         \n",
            "  inflating: student-merge.R         \n",
            "  inflating: student.txt             \n"
          ],
          "name": "stdout"
        }
      ]
    },
    {
      "cell_type": "code",
      "metadata": {
        "id": "wBv4IA7J11-J",
        "colab_type": "code",
        "colab": {}
      },
      "source": [
        "df = pd.read_csv('student-mat.csv', sep=';')"
      ],
      "execution_count": null,
      "outputs": []
    },
    {
      "cell_type": "markdown",
      "metadata": {
        "id": "RXPZZuAi3ccI",
        "colab_type": "text"
      },
      "source": [
        "### 2) Use Chi^2 tests and `stats.chi2_contingency()` to identify:\n",
        " - Two pairs of variables that are dependent (are associated with one another).\n",
        " - Two pairs of variables that are independent (have no significant relationship).\n",
        "\n",
        "Does it make intuitive sense why the variables in these pairs might or might not show a relationship to one another? \n"
      ]
    },
    {
      "cell_type": "code",
      "metadata": {
        "id": "Ckcr4A4FM7cs",
        "colab_type": "code",
        "colab": {}
      },
      "source": [
        "# YOUR WORK HERE\n",
        "\n",
        "# Creating contingency tables\n",
        "\n",
        "observed = pd.crosstab(df['Dalc'],df['failures'])\n",
        "observed2 = pd.crosstab(df['famrel'], df['absences'])\n",
        "observed3 = pd.crosstab(df['famsize'], df['address'])\n",
        "observed4 = pd.crosstab(df['goout'], df['failures'])"
      ],
      "execution_count": null,
      "outputs": []
    },
    {
      "cell_type": "code",
      "metadata": {
        "id": "ydl9kxaUZ6Mf",
        "colab_type": "code",
        "colab": {}
      },
      "source": [
        "# Assigning and printing chi2 value, p value, depth of freedom, \n",
        "# and expected frequencies\n",
        "\n",
        "chi2, p_value, dof, expected = stats.chi2_contingency(observed)\n",
        "\n",
        "print(\"chi2 statistic\", chi2)\n",
        "print(\"p value\", p_value)\n",
        "print(\"degrees of freedom\",dof)\n",
        "print(\"expected frequencies table \\n\", expected)"
      ],
      "execution_count": null,
      "outputs": []
    },
    {
      "cell_type": "markdown",
      "metadata": {
        "id": "u9A7CVQNaBV8",
        "colab_type": "text"
      },
      "source": [
        "Testing Daytime Alcohol Consumption vs Class Failures\n",
        "\n",
        "1. Null Hypothesis:\n",
        "Workday alcohol consumption and class failures are INDEPENDENT of each other, they are NOT statistically correlated.\n",
        "2. Alternative Hypothesis:\n",
        "Workday alcohol consumption and class failures are DEPENDENT of each other, they ARE statistically correlated.\n",
        "3. Confidence Level:\n",
        "95%\n",
        "\n",
        "Conclusion:\n",
        "Based on a chi^2 statistic of 22.6 and a p-value of 0.031, **we reject the null hypothesis** that workday alcohol consumption and class failures are independent and suggest the alternative that there is a strong relationship between these two categorical variables.\n",
        "\n",
        "This follows intuition - most people would expect frequent workday alcohol consumption to result in worse class performance"
      ]
    },
    {
      "cell_type": "code",
      "metadata": {
        "id": "9KNj_T80Or6i",
        "colab_type": "code",
        "colab": {}
      },
      "source": [
        "chi2, p_value, dof, expected = stats.chi2_contingency(observed2)\n",
        "\n",
        "print(\"chi2 statistic\", chi2)\n",
        "print(\"p value\", p_value)\n",
        "print(\"degrees of freedom\",dof)\n",
        "print(\"expected frequencies table \\n\", expected)"
      ],
      "execution_count": null,
      "outputs": []
    },
    {
      "cell_type": "markdown",
      "metadata": {
        "id": "2Rn3CMZYa-0o",
        "colab_type": "text"
      },
      "source": [
        "Testing Quality of Family Relationships vs Class Absences\n",
        "1. Null Hypothesis:\n",
        "Quality of family relationships and class absences are INDEPENDENT of each other, they are NOT statistically correlated.\n",
        "2. Alternative Hypothesis:\n",
        "Quality of family relationships and class absences are DEPENDENT of each other, they ARE statistically correlated.\n",
        "3. Confidence Level:\n",
        "95%\n",
        "\n",
        "Conclusion:\n",
        "Based on a chi^2 statistic of 102.1 and a p-value of 0.974, **we fail to reject the null hypothesis** that quality of family relationships and class absences are independent.\n",
        "\n",
        "To say this follows intuition or not is difficult.  Students suffering at home from poor family relationships might stay at home because school is a stress compounder - or they might attend school frequently to get away from home."
      ]
    },
    {
      "cell_type": "code",
      "metadata": {
        "id": "LCzmYIKzX1ve",
        "colab_type": "code",
        "colab": {
          "base_uri": "https://localhost:8080/",
          "height": 127
        },
        "outputId": "2a2caaae-9e34-437b-a209-9e094f609898"
      },
      "source": [
        "chi2, p_value, dof, expected = stats.chi2_contingency(observed3)\n",
        "\n",
        "print(\"chi2 statistic\", chi2)\n",
        "print(\"p value\", p_value)\n",
        "print(\"degrees of freedom\",dof)\n",
        "print(\"expected frequencies table \\n\", expected)"
      ],
      "execution_count": null,
      "outputs": [
        {
          "output_type": "stream",
          "text": [
            "chi2 statistic 1.7080569422911414\n",
            "p value 0.19123766649306323\n",
            "degrees of freedom 1\n",
            "expected frequencies table \n",
            " [[ 62.60253165 218.39746835]\n",
            " [ 25.39746835  88.60253165]]\n"
          ],
          "name": "stdout"
        }
      ]
    },
    {
      "cell_type": "markdown",
      "metadata": {
        "id": "m8Aoqh9RdQ7E",
        "colab_type": "text"
      },
      "source": [
        "Testing Family Size vs Address (Urban or Rural)\n",
        "1. Null Hypothesis:\n",
        "Family size and address are INDEPENDENT of each other, they are NOT statistically correlated.\n",
        "2. Alternative Hypothesis:\n",
        "Family size and address are DEPENDENT of each other, they ARE statistically correlated.\n",
        "3. Confidence Level:\n",
        "95%\n",
        "\n",
        "Conclusion:\n",
        "Based on a chi^2 statistic of 1.7 and a p-value of 0.191, **we fail to reject the null hypothesis** that family size and address are independent.\n",
        "\n",
        "I could imagine these variables having a dependent relationship but am not entirely surprised that the results are not statistically significant - where you live shouldn't have the biggest impact on how many kids you want to have."
      ]
    },
    {
      "cell_type": "code",
      "metadata": {
        "id": "kerSkLruYF42",
        "colab_type": "code",
        "colab": {
          "base_uri": "https://localhost:8080/",
          "height": 182
        },
        "outputId": "596951ee-6b08-42f8-c973-3bb830e62c5b"
      },
      "source": [
        "chi2, p_value, dof, expected = stats.chi2_contingency(observed4)\n",
        "\n",
        "print(\"chi2 statistic\", chi2)\n",
        "print(\"p value\", p_value)\n",
        "print(\"degrees of freedom\",dof)\n",
        "print(\"expected frequencies table \\n\", expected)"
      ],
      "execution_count": null,
      "outputs": [
        {
          "output_type": "stream",
          "text": [
            "chi2 statistic 28.962714739524678\n",
            "p value 0.003990520196627485\n",
            "degrees of freedom 12\n",
            "expected frequencies table \n",
            " [[ 18.16708861   2.91139241   0.98987342   0.93164557]\n",
            " [ 81.35696203  13.03797468   4.43291139   4.1721519 ]\n",
            " [102.6835443   16.4556962    5.59493671   5.26582278]\n",
            " [ 67.92911392  10.88607595   3.70126582   3.4835443 ]\n",
            " [ 41.86329114   6.70886076   2.28101266   2.14683544]]\n"
          ],
          "name": "stdout"
        }
      ]
    },
    {
      "cell_type": "markdown",
      "metadata": {
        "id": "-S6QiVp6eTKM",
        "colab_type": "text"
      },
      "source": [
        "Testing Time Spent out with Friends vs Class Failures\n",
        "1. Null Hypothesis:\n",
        "Time spent out and class failures are INDEPENDENT of each other, they are NOT statistically correlated.\n",
        "2. Alternative Hypothesis:\n",
        "Time spent out and class failures are DEPENDENT of each other, they ARE statistically correlated.\n",
        "3. Confidence Level:\n",
        "95%\n",
        "\n",
        "Conclusion:\n",
        "Based on a chi^2 statistic of 28.9 and a p-value of 0.003, **we reject the null hypothesis** that time spent out and class failures are independent.\n",
        "\n",
        "This follows intuition.  Time spent out with friends is time that isn't spent improving school performance."
      ]
    },
    {
      "cell_type": "markdown",
      "metadata": {
        "id": "Tf7XPpBP6YqX",
        "colab_type": "text"
      },
      "source": [
        "### 3) Use NumPy to perform your own chi^2 test \"from scratch\" \n",
        "\n",
        "Pick any of the chi^2 tests that you ran in part 2 and try them on your own. You should get the same results that Scipy got for all four values returned from `chi2_contingency()`"
      ]
    },
    {
      "cell_type": "code",
      "metadata": {
        "id": "Et5DtusY6maX",
        "colab_type": "code",
        "colab": {
          "base_uri": "https://localhost:8080/",
          "height": 269
        },
        "outputId": "1e06d37f-3a02-4363-c83e-0537e6407412"
      },
      "source": [
        "# YOUR WORK HERE\n",
        "\n",
        "# Contingency table\n",
        "\n",
        "contingency = pd.crosstab(df['Dalc'],df['failures'], margins=True)\n",
        "\n",
        "contingency"
      ],
      "execution_count": null,
      "outputs": [
        {
          "output_type": "execute_result",
          "data": {
            "text/html": [
              "<div>\n",
              "<style scoped>\n",
              "    .dataframe tbody tr th:only-of-type {\n",
              "        vertical-align: middle;\n",
              "    }\n",
              "\n",
              "    .dataframe tbody tr th {\n",
              "        vertical-align: top;\n",
              "    }\n",
              "\n",
              "    .dataframe thead th {\n",
              "        text-align: right;\n",
              "    }\n",
              "</style>\n",
              "<table border=\"1\" class=\"dataframe\">\n",
              "  <thead>\n",
              "    <tr style=\"text-align: right;\">\n",
              "      <th>failures</th>\n",
              "      <th>0</th>\n",
              "      <th>1</th>\n",
              "      <th>2</th>\n",
              "      <th>3</th>\n",
              "      <th>All</th>\n",
              "    </tr>\n",
              "    <tr>\n",
              "      <th>Dalc</th>\n",
              "      <th></th>\n",
              "      <th></th>\n",
              "      <th></th>\n",
              "      <th></th>\n",
              "      <th></th>\n",
              "    </tr>\n",
              "  </thead>\n",
              "  <tbody>\n",
              "    <tr>\n",
              "      <th>1</th>\n",
              "      <td>232</td>\n",
              "      <td>29</td>\n",
              "      <td>7</td>\n",
              "      <td>8</td>\n",
              "      <td>276</td>\n",
              "    </tr>\n",
              "    <tr>\n",
              "      <th>2</th>\n",
              "      <td>50</td>\n",
              "      <td>12</td>\n",
              "      <td>8</td>\n",
              "      <td>5</td>\n",
              "      <td>75</td>\n",
              "    </tr>\n",
              "    <tr>\n",
              "      <th>3</th>\n",
              "      <td>17</td>\n",
              "      <td>6</td>\n",
              "      <td>1</td>\n",
              "      <td>2</td>\n",
              "      <td>26</td>\n",
              "    </tr>\n",
              "    <tr>\n",
              "      <th>4</th>\n",
              "      <td>6</td>\n",
              "      <td>2</td>\n",
              "      <td>1</td>\n",
              "      <td>0</td>\n",
              "      <td>9</td>\n",
              "    </tr>\n",
              "    <tr>\n",
              "      <th>5</th>\n",
              "      <td>7</td>\n",
              "      <td>1</td>\n",
              "      <td>0</td>\n",
              "      <td>1</td>\n",
              "      <td>9</td>\n",
              "    </tr>\n",
              "    <tr>\n",
              "      <th>All</th>\n",
              "      <td>312</td>\n",
              "      <td>50</td>\n",
              "      <td>17</td>\n",
              "      <td>16</td>\n",
              "      <td>395</td>\n",
              "    </tr>\n",
              "  </tbody>\n",
              "</table>\n",
              "</div>"
            ],
            "text/plain": [
              "failures    0   1   2   3  All\n",
              "Dalc                          \n",
              "1         232  29   7   8  276\n",
              "2          50  12   8   5   75\n",
              "3          17   6   1   2   26\n",
              "4           6   2   1   0    9\n",
              "5           7   1   0   1    9\n",
              "All       312  50  17  16  395"
            ]
          },
          "metadata": {
            "tags": []
          },
          "execution_count": 12
        }
      ]
    },
    {
      "cell_type": "code",
      "metadata": {
        "id": "noj1O8WnGiyO",
        "colab_type": "code",
        "colab": {
          "base_uri": "https://localhost:8080/",
          "height": 35
        },
        "outputId": "0511adbd-01ff-46af-eaa8-46f78eca3d22"
      },
      "source": [
        "# Sorting row totals\n",
        "\n",
        "row_totals = df['failures'].value_counts().sort_index().values\n",
        "\n",
        "row_totals"
      ],
      "execution_count": null,
      "outputs": [
        {
          "output_type": "execute_result",
          "data": {
            "text/plain": [
              "array([312,  50,  17,  16])"
            ]
          },
          "metadata": {
            "tags": []
          },
          "execution_count": 13
        }
      ]
    },
    {
      "cell_type": "code",
      "metadata": {
        "id": "DvyVCqHVGxrF",
        "colab_type": "code",
        "colab": {
          "base_uri": "https://localhost:8080/",
          "height": 35
        },
        "outputId": "d352a5f1-f0bf-41ed-dd35-15fe292dc42a"
      },
      "source": [
        "# Sorting column totals\n",
        "\n",
        "col_totals = df['Dalc'].value_counts().sort_index().values\n",
        "\n",
        "col_totals"
      ],
      "execution_count": null,
      "outputs": [
        {
          "output_type": "execute_result",
          "data": {
            "text/plain": [
              "array([276,  75,  26,   9,   9])"
            ]
          },
          "metadata": {
            "tags": []
          },
          "execution_count": 14
        }
      ]
    },
    {
      "cell_type": "code",
      "metadata": {
        "id": "JPUfPv34G4KB",
        "colab_type": "code",
        "colab": {
          "base_uri": "https://localhost:8080/",
          "height": 35
        },
        "outputId": "710e742b-19f3-4d49-fb78-9644c64bab59"
      },
      "source": [
        "# Amount of observations (?)\n",
        "\n",
        "sample_size = df.shape[0]\n",
        "\n",
        "sample_size"
      ],
      "execution_count": null,
      "outputs": [
        {
          "output_type": "execute_result",
          "data": {
            "text/plain": [
              "395"
            ]
          },
          "metadata": {
            "tags": []
          },
          "execution_count": 15
        }
      ]
    },
    {
      "cell_type": "code",
      "metadata": {
        "id": "M7OcCVCvG8bx",
        "colab_type": "code",
        "colab": {
          "base_uri": "https://localhost:8080/",
          "height": 109
        },
        "outputId": "ef195472-ed44-4264-90c8-1b6fc3330960"
      },
      "source": [
        "# Template array for expected values\n",
        "\n",
        "expected = np.array([[0.0, 0.0, 0.0, 0.0],\n",
        "                     [0.0, 0.0, 0.0, 0.0],\n",
        "                     [0.0, 0.0, 0.0, 0.0],\n",
        "                     [0.0, 0.0, 0.0, 0.0],\n",
        "                     [0.0, 0.0, 0.0, 0.0],])\n",
        "\n",
        "# Assigning values to expected values array\n",
        "\n",
        "for row_position, col in enumerate(col_totals):\n",
        "  for column_position, row in enumerate(row_totals):\n",
        "    expected_value = (row*col) / sample_size\n",
        "    expected[row_position][column_position] = expected_value\n",
        "\n",
        "expected"
      ],
      "execution_count": null,
      "outputs": [
        {
          "output_type": "execute_result",
          "data": {
            "text/plain": [
              "array([[218.00506329,  34.93670886,  11.87848101,  11.17974684],\n",
              "       [ 59.24050633,   9.49367089,   3.2278481 ,   3.03797468],\n",
              "       [ 20.53670886,   3.29113924,   1.11898734,   1.05316456],\n",
              "       [  7.10886076,   1.13924051,   0.38734177,   0.36455696],\n",
              "       [  7.10886076,   1.13924051,   0.38734177,   0.36455696]])"
            ]
          },
          "metadata": {
            "tags": []
          },
          "execution_count": 16
        }
      ]
    },
    {
      "cell_type": "code",
      "metadata": {
        "id": "xuvU1-m3HXH-",
        "colab_type": "code",
        "colab": {
          "base_uri": "https://localhost:8080/",
          "height": 35
        },
        "outputId": "235ccba7-d7e5-4146-a6fa-405916b345d1"
      },
      "source": [
        "# Obtaining Chi2 statistic\n",
        "\n",
        "chi2 = ((observed - expected)**2 / expected).sum().sum()\n",
        "\n",
        "chi2"
      ],
      "execution_count": null,
      "outputs": [
        {
          "output_type": "execute_result",
          "data": {
            "text/plain": [
              "22.613784416016074"
            ]
          },
          "metadata": {
            "tags": []
          },
          "execution_count": 48
        }
      ]
    },
    {
      "cell_type": "code",
      "metadata": {
        "id": "q2Iz7UoTQhli",
        "colab_type": "code",
        "colab": {
          "base_uri": "https://localhost:8080/",
          "height": 35
        },
        "outputId": "3c49f1ae-7cf9-4ac3-b8eb-834e6147f817"
      },
      "source": [
        "# Obtaining Degrees of Freedom\n",
        "\n",
        "dof = (row_totals.size - 1) * (col_totals.size - 1)\n",
        "\n",
        "dof"
      ],
      "execution_count": null,
      "outputs": [
        {
          "output_type": "execute_result",
          "data": {
            "text/plain": [
              "12"
            ]
          },
          "metadata": {
            "tags": []
          },
          "execution_count": 58
        }
      ]
    },
    {
      "cell_type": "code",
      "metadata": {
        "id": "MDlB2LNZRcFe",
        "colab_type": "code",
        "colab": {}
      },
      "source": [
        "# Used the University of Iowa Applet to get p value from chi2\n",
        "\n",
        "p_value = 0.03119"
      ],
      "execution_count": null,
      "outputs": []
    },
    {
      "cell_type": "code",
      "metadata": {
        "id": "ucoULQITSikd",
        "colab_type": "code",
        "colab": {
          "base_uri": "https://localhost:8080/",
          "height": 182
        },
        "outputId": "d38cf6bb-43c8-455f-fe51-d23e0199dc2c"
      },
      "source": [
        "# Print everything we need to see\n",
        "\n",
        "print(\"chi2 statistic\", chi2)\n",
        "print(\"p value\", p_value)\n",
        "print(\"degrees of freedom\",dof)\n",
        "print(\"expected frequencies table \\n\", expected)"
      ],
      "execution_count": null,
      "outputs": [
        {
          "output_type": "stream",
          "text": [
            "chi2 statistic 22.613784416016074\n",
            "p value 0.03119\n",
            "degrees of freedom 12\n",
            "expected frequencies table \n",
            " [[218.00506329  34.93670886  11.87848101  11.17974684]\n",
            " [ 59.24050633   9.49367089   3.2278481    3.03797468]\n",
            " [ 20.53670886   3.29113924   1.11898734   1.05316456]\n",
            " [  7.10886076   1.13924051   0.38734177   0.36455696]\n",
            " [  7.10886076   1.13924051   0.38734177   0.36455696]]\n"
          ],
          "name": "stdout"
        }
      ]
    },
    {
      "cell_type": "markdown",
      "metadata": {
        "id": "a2BrKHq8m8AS",
        "colab_type": "text"
      },
      "source": [
        "## Stretch goals:\n",
        "\n",
        "### 1. Refactor your code so it is elegant, readable, and holds reusable code in functions."
      ]
    },
    {
      "cell_type": "code",
      "metadata": {
        "id": "AntnuAkFm-JQ",
        "colab_type": "code",
        "colab": {}
      },
      "source": [
        "# YOUR WORK HERE"
      ],
      "execution_count": null,
      "outputs": []
    },
    {
      "cell_type": "markdown",
      "metadata": {
        "id": "4ohsJhQUmEuS",
        "colab_type": "text"
      },
      "source": [
        "\n",
        "\n",
        "### 2. Check For Understanding - Study and write your own explanations/definitions for these topics:\n",
        "\n",
        "- What is a sample \"estimate\" in statistics?\n",
        "\n",
        "- What are hypothesis test? How are they useful?\n",
        "\n",
        "- What is a \"null hypothesis?\"\n",
        "\n",
        "- What is a p-value and what does it represent?\n",
        "\n",
        "- What does it mean for something to be \"statistically significant?\"\n",
        "\n",
        "- What is a test statistic and how does it relate to a p-value?\n",
        "\n",
        "- What are \"degrees of freedom\" and how are they calculated in a 1-sample, 2-sample, and chi^2 test for independence?"
      ]
    },
    {
      "cell_type": "markdown",
      "metadata": {
        "id": "nyJ3ySr7R2k9",
        "colab_type": "text"
      },
      "source": [
        "## Resources\n",
        "\n",
        "- [Interactive visualize the Chi-Squared test](https://homepage.divms.uiowa.edu/~mbognar/applets/chisq.html)\n",
        "- [Calculation of Chi-Squared test statistic](https://en.wikipedia.org/wiki/Pearson%27s_chi-squared_test)\n",
        "- [Visualization of a confidence interval generated by R code](https://commons.wikimedia.org/wiki/File:Confidence-interval.svg)\n",
        "- [Expected value of a squared standard normal](https://math.stackexchange.com/questions/264061/expected-value-calculation-for-squared-normal-distribution) (it's 1 - which is why the expected value of a Chi-Squared with $n$ degrees of freedom is $n$, as it's the sum of $n$ squared standard normals)"
      ]
    }
  ]
}